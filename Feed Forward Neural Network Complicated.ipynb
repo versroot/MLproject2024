{
 "cells": [
  {
   "cell_type": "code",
   "execution_count": 355,
   "metadata": {},
   "outputs": [],
   "source": [
    "import numpy as np\n",
    "np.random.seed(1)\n"
   ]
  },
  {
   "cell_type": "code",
   "execution_count": 356,
   "metadata": {},
   "outputs": [],
   "source": [
    "import math"
   ]
  },
  {
   "cell_type": "code",
   "execution_count": 357,
   "metadata": {},
   "outputs": [],
   "source": [
    "X = 'input.data'\n",
    "y1 = 'label.data'\n"
   ]
  },
  {
   "cell_type": "code",
   "execution_count": 358,
   "metadata": {},
   "outputs": [],
   "source": [
    "from nnfs.datasets import spiral_data\n"
   ]
  },
  {
   "cell_type": "code",
   "execution_count": 359,
   "metadata": {},
   "outputs": [],
   "source": [
    "class Layer_Dense:\n",
    "    def __init__(self,n_inpt, n_neur):\n",
    "        self.weights = 0.10 * np.random.randn(n_inpt, n_neur)\n",
    "        self.biases = np.zeros((1, n_neur))\n",
    "\n",
    "    def forward(self, inputs):\n",
    "        self.inputs = inputs\n",
    "        self.output = np.dot(inputs, self.weights) + self.biases\n",
    "\n",
    "    def backward(self, dvalues):\n",
    "        self.dweights = np.dot(self.inputs.T, dvalues)\n",
    "        self.dbiases = np.sum(dvalues, axis = 0, keepdims = True)\n",
    "        self.dinputs = np.dot(dvalues, self.weights.T)\n"
   ]
  },
  {
   "cell_type": "code",
   "execution_count": 360,
   "metadata": {},
   "outputs": [],
   "source": [
    "class Activation_ReLu:\n",
    "    def forward(self, inputs):\n",
    "        self.inputs = inputs\n",
    "        self.output = np.maximum(0, inputs)\n",
    "    \n",
    "    def backward(self, dvalues):\n",
    "        self.dinputs = dvalues.copy()\n",
    "        self.dinputs[self.inputs<=0] = 0\n",
    "        "
   ]
  },
  {
   "cell_type": "code",
   "execution_count": 361,
   "metadata": {},
   "outputs": [],
   "source": [
    "class Activation_Softmax:\n",
    "    def forward(self, inputs):\n",
    "        exp_values = np.exp(inputs- np.max(inputs, axis = 1, keepdims = True))\n",
    "        probabilities = exp_values / np.sum(exp_values, axis = 1, keepdims = True)\n",
    "        self.output = probabilities\n",
    "\n",
    "    def backward(self, dvalues):\n",
    "        self.dinputs = np.empty_like(dvalues)\n",
    "        for index, (single_output, single_dvalues) in enumerate(zip(self.output, dvalues)):\n",
    "            single_output = single_output.reshape(-1, 1)\n",
    "            jacobian_matrix = np.diagflat(single_output) - np.outer(single_output, single_output)\n",
    "            self.dinputs[index] = np.dot(jacobian_matrix, single_dvalues)\n",
    "\n"
   ]
  },
  {
   "cell_type": "code",
   "execution_count": 362,
   "metadata": {},
   "outputs": [],
   "source": [
    "class LossFunction:\n",
    "    def calculate(self, output, y):\n",
    "        samples_losses = self.forward(output, y)\n",
    "        data_loss = np.mean(samples_losses)\n",
    "        return data_loss\n",
    "\n",
    "class CrossEntropy(LossFunction): \n",
    "    def forward(self, y_pred, y_true):\n",
    "        samples = len(y_pred)\n",
    "        y_pred_clipped = np.clip(y_pred, 1e-7, 1-1e-7)\n",
    "\n",
    "        if len(y_true.shape) == 1: ##scalar \n",
    "            correct_confidences = y_pred_clipped[range(samples), y_true]\n",
    "        elif len(y_true) == 2: ##one hot encoded\n",
    "            correct_confidences = np.sum(y_pred_clipped*y_true, axis = 1)\n",
    "\n",
    "        neg_log_likelihoods = -np.log(correct_confidences)\n",
    "        return neg_log_likelihoods\n",
    "    \n",
    "    def backward(self, dvalues, y_true):\n",
    "        samples = len(dvalues)\n",
    "        labels = len(dvalues[0])\n",
    "\n",
    "        if len(y_true.shape) == 1:\n",
    "            y_true = np.eye(labels)[y_true]\n",
    "\n",
    "        self.dinputs = -y_true/dvalues\n",
    "        self.dinputs = self.dinputs/samples"
   ]
  },
  {
   "cell_type": "code",
   "execution_count": 363,
   "metadata": {},
   "outputs": [],
   "source": [
    "'''Completely taken from the book'''\n",
    "#Don't really see the point in it but it's nice to have\n",
    "\n",
    "class Activation_Softmax_Loss_CategoricalCrossentropy():\n",
    "# Creates activation and loss function objects\n",
    "    def __init__(self):\n",
    "        self.activation = Activation_Softmax()\n",
    "        self.loss = CrossEntropy()\n",
    "# Forward pass\n",
    "    def forward(self, inputs, y_true):\n",
    "# Output layer's activation function\n",
    "        self.activation.forward(inputs)\n",
    "        # Set the output\n",
    "        self.output = self.activation.output\n",
    "# Calculate and return loss value\n",
    "        return self.loss.calculate(self.output, y_true)\n",
    "    \n",
    "    def backward(self, dvalues, y_true):\n",
    "# Number of samples\n",
    "        samples = len(dvalues)\n",
    "        # If labels are one-hot encoded,\n",
    "        # turn them into discrete values\n",
    "        if len(y_true.shape) == 2:\n",
    "            y_true = np.argmax(y_true, axis=1)\n",
    "        # Copy so we can safely modify\n",
    "        self.dinputs = dvalues.copy()\n",
    "        # Calculate gradient\n",
    "        self.dinputs[range(samples), y_true] -= 1\n",
    "        # Normalize gradient\n",
    "        self.dinputs = self.dinputs / samples"
   ]
  },
  {
   "cell_type": "code",
   "execution_count": 364,
   "metadata": {},
   "outputs": [],
   "source": [
    "##learning rate to be updated after doing cross-validation(anywhere from 0,0001 to 1)\n",
    "\n",
    "\n",
    "class Optimizer_SGD:\n",
    "    def __init__(self, learning_rate = .85):\n",
    "        self.learning_rate = learning_rate\n",
    "\n",
    "\n",
    "    def update_params(self, layer):\n",
    "        layer.weights += - self.learning_rate *layer.dweights\n",
    "        layer.biases +=  -self.learning_rate * layer.dbiases\n"
   ]
  },
  {
   "cell_type": "code",
   "execution_count": 365,
   "metadata": {},
   "outputs": [],
   "source": [
    "X, y = spiral_data(samples=100, classes=3)"
   ]
  },
  {
   "cell_type": "code",
   "execution_count": 366,
   "metadata": {},
   "outputs": [],
   "source": [
    "\n",
    "dense1 = Layer_Dense(2, 64)\n",
    "activation1 = Activation_ReLu()\n",
    "dense2 = Layer_Dense(64, 3)\n",
    "loss_activation = Activation_Softmax_Loss_CategoricalCrossentropy()"
   ]
  },
  {
   "cell_type": "code",
   "execution_count": 367,
   "metadata": {},
   "outputs": [
    {
     "name": "stdout",
     "output_type": "stream",
     "text": [
      "Loss: 1.0985352369055663\n"
     ]
    }
   ],
   "source": [
    "optimizer = Optimizer_SGD()\n",
    "\n",
    "dense1.forward(X)\n",
    "\n",
    "activation1.forward(dense1.output)\n",
    "\n",
    "dense2.forward(activation1.output)\n",
    "\n",
    "loss = loss_activation.forward(dense2.output, y)\n",
    "\n",
    "print(\"Loss:\", loss)"
   ]
  },
  {
   "cell_type": "code",
   "execution_count": 368,
   "metadata": {},
   "outputs": [
    {
     "name": "stdout",
     "output_type": "stream",
     "text": [
      "acc: 0.3333333333333333\n"
     ]
    }
   ],
   "source": [
    "predictions = np.argmax(loss_activation.output, axis=1)\n",
    "if len(y.shape) == 2:\n",
    "    y = np.argmax(y, axis=1)\n",
    "accuracy = np.mean(predictions==y)\n",
    "print('acc:', accuracy) "
   ]
  },
  {
   "cell_type": "code",
   "execution_count": 369,
   "metadata": {},
   "outputs": [],
   "source": [
    "loss_activation.backward(loss_activation.output, y)\n",
    "dense2.backward(loss_activation.dinputs)\n",
    "activation1.backward(dense2.dinputs)\n",
    "dense1.backward(activation1.dinputs)"
   ]
  },
  {
   "cell_type": "code",
   "execution_count": 370,
   "metadata": {},
   "outputs": [],
   "source": [
    "optimizer.update_params(dense1)\n",
    "optimizer.update_params(dense2)"
   ]
  },
  {
   "cell_type": "code",
   "execution_count": 371,
   "metadata": {},
   "outputs": [
    {
     "name": "stdout",
     "output_type": "stream",
     "text": [
      "epoch: 0, acc: 0.387, loss: 1.096\n",
      "epoch: 100, acc: 0.430, loss: 1.057\n",
      "epoch: 200, acc: 0.463, loss: 1.053\n",
      "epoch: 300, acc: 0.470, loss: 1.052\n",
      "epoch: 400, acc: 0.470, loss: 1.050\n",
      "epoch: 500, acc: 0.477, loss: 1.049\n",
      "epoch: 600, acc: 0.480, loss: 1.047\n",
      "epoch: 700, acc: 0.487, loss: 1.043\n",
      "epoch: 800, acc: 0.490, loss: 1.037\n",
      "epoch: 900, acc: 0.493, loss: 1.027\n",
      "epoch: 1000, acc: 0.500, loss: 1.013\n",
      "epoch: 1100, acc: 0.513, loss: 0.999\n",
      "epoch: 1200, acc: 0.550, loss: 0.983\n",
      "epoch: 1300, acc: 0.560, loss: 0.968\n",
      "epoch: 1400, acc: 0.547, loss: 0.954\n",
      "epoch: 1500, acc: 0.507, loss: 0.960\n",
      "epoch: 1600, acc: 0.497, loss: 0.954\n",
      "epoch: 1700, acc: 0.510, loss: 0.948\n",
      "epoch: 1800, acc: 0.523, loss: 0.939\n",
      "epoch: 1900, acc: 0.573, loss: 0.930\n",
      "epoch: 2000, acc: 0.537, loss: 0.936\n",
      "epoch: 2100, acc: 0.603, loss: 0.921\n",
      "epoch: 2200, acc: 0.517, loss: 0.923\n",
      "epoch: 2300, acc: 0.550, loss: 0.931\n",
      "epoch: 2400, acc: 0.560, loss: 0.894\n",
      "epoch: 2500, acc: 0.533, loss: 0.907\n",
      "epoch: 2600, acc: 0.540, loss: 0.865\n",
      "epoch: 2700, acc: 0.577, loss: 0.896\n",
      "epoch: 2800, acc: 0.573, loss: 0.907\n",
      "epoch: 2900, acc: 0.533, loss: 0.948\n",
      "epoch: 3000, acc: 0.563, loss: 0.988\n",
      "epoch: 3100, acc: 0.597, loss: 0.867\n",
      "epoch: 3200, acc: 0.550, loss: 0.858\n",
      "epoch: 3300, acc: 0.567, loss: 0.849\n",
      "epoch: 3400, acc: 0.617, loss: 0.892\n",
      "epoch: 3500, acc: 0.630, loss: 0.864\n",
      "epoch: 3600, acc: 0.637, loss: 0.868\n",
      "epoch: 3700, acc: 0.553, loss: 0.879\n",
      "epoch: 3800, acc: 0.560, loss: 0.914\n",
      "epoch: 3900, acc: 0.600, loss: 0.908\n",
      "epoch: 4000, acc: 0.620, loss: 0.857\n",
      "epoch: 4100, acc: 0.593, loss: 0.847\n",
      "epoch: 4200, acc: 0.590, loss: 0.858\n",
      "epoch: 4300, acc: 0.577, loss: 0.875\n",
      "epoch: 4400, acc: 0.610, loss: 0.825\n",
      "epoch: 4500, acc: 0.610, loss: 0.816\n",
      "epoch: 4600, acc: 0.587, loss: 0.918\n",
      "epoch: 4700, acc: 0.567, loss: 0.962\n",
      "epoch: 4800, acc: 0.577, loss: 0.950\n",
      "epoch: 4900, acc: 0.597, loss: 0.924\n",
      "epoch: 5000, acc: 0.623, loss: 0.852\n",
      "epoch: 5100, acc: 0.617, loss: 0.866\n",
      "epoch: 5200, acc: 0.603, loss: 0.825\n",
      "epoch: 5300, acc: 0.673, loss: 0.792\n",
      "epoch: 5400, acc: 0.657, loss: 0.781\n",
      "epoch: 5500, acc: 0.670, loss: 0.800\n",
      "epoch: 5600, acc: 0.660, loss: 0.759\n",
      "epoch: 5700, acc: 0.660, loss: 0.743\n",
      "epoch: 5800, acc: 0.687, loss: 0.751\n",
      "epoch: 5900, acc: 0.657, loss: 0.769\n",
      "epoch: 6000, acc: 0.677, loss: 0.744\n",
      "epoch: 6100, acc: 0.680, loss: 0.747\n",
      "epoch: 6200, acc: 0.677, loss: 0.750\n",
      "epoch: 6300, acc: 0.627, loss: 0.882\n",
      "epoch: 6400, acc: 0.597, loss: 1.002\n",
      "epoch: 6500, acc: 0.657, loss: 0.724\n",
      "epoch: 6600, acc: 0.673, loss: 0.737\n",
      "epoch: 6700, acc: 0.693, loss: 0.681\n",
      "epoch: 6800, acc: 0.717, loss: 0.697\n",
      "epoch: 6900, acc: 0.707, loss: 0.696\n",
      "epoch: 7000, acc: 0.693, loss: 0.738\n",
      "epoch: 7100, acc: 0.723, loss: 0.702\n",
      "epoch: 7200, acc: 0.650, loss: 0.833\n",
      "epoch: 7300, acc: 0.733, loss: 0.654\n",
      "epoch: 7400, acc: 0.717, loss: 0.656\n",
      "epoch: 7500, acc: 0.723, loss: 0.639\n",
      "epoch: 7600, acc: 0.737, loss: 0.595\n",
      "epoch: 7700, acc: 0.770, loss: 0.556\n",
      "epoch: 7800, acc: 0.750, loss: 0.576\n",
      "epoch: 7900, acc: 0.767, loss: 0.571\n",
      "epoch: 8000, acc: 0.737, loss: 0.627\n",
      "epoch: 8100, acc: 0.670, loss: 0.759\n",
      "epoch: 8200, acc: 0.827, loss: 0.454\n",
      "epoch: 8300, acc: 0.777, loss: 0.549\n",
      "epoch: 8400, acc: 0.777, loss: 0.514\n",
      "epoch: 8500, acc: 0.700, loss: 0.739\n",
      "epoch: 8600, acc: 0.773, loss: 0.538\n",
      "epoch: 8700, acc: 0.800, loss: 0.498\n",
      "epoch: 8800, acc: 0.793, loss: 0.502\n",
      "epoch: 8900, acc: 0.810, loss: 0.468\n",
      "epoch: 9000, acc: 0.793, loss: 0.478\n",
      "epoch: 9100, acc: 0.803, loss: 0.477\n",
      "epoch: 9200, acc: 0.803, loss: 0.488\n",
      "epoch: 9300, acc: 0.653, loss: 1.005\n",
      "epoch: 9400, acc: 0.810, loss: 0.447\n",
      "epoch: 9500, acc: 0.807, loss: 0.470\n",
      "epoch: 9600, acc: 0.850, loss: 0.410\n",
      "epoch: 9700, acc: 0.843, loss: 0.416\n",
      "epoch: 9800, acc: 0.833, loss: 0.416\n",
      "epoch: 9900, acc: 0.830, loss: 0.414\n",
      "epoch: 10000, acc: 0.840, loss: 0.409\n"
     ]
    }
   ],
   "source": [
    "'''from book'''\n",
    "\n",
    "for epoch in range(10001):\n",
    "# Perform a forward pass of our training data through this layer\n",
    "    dense1.forward(X)\n",
    "    # Perform a forward pass through activation function\n",
    "    # takes the output of first dense layer here\n",
    "    activation1.forward(dense1.output)\n",
    "    # Perform a forward pass through second Dense layer\n",
    "    # takes outputs of activation function of first layer as inputs\n",
    "    dense2.forward(activation1.output)\n",
    "    # Perform a forward pass through the activation/loss function\n",
    "    # takes the output of second dense layer here and returns loss\n",
    "    loss = loss_activation.forward(dense2.output, y)\n",
    "\n",
    "    predictions = np.argmax(loss_activation.output, axis=1)\n",
    "\n",
    "    if len(y.shape) == 2:\n",
    "         y = np.argmax(y, axis=1)\n",
    "    accuracy = np.mean(predictions==y)\n",
    "\n",
    "    if not epoch % 100:\n",
    "         print(f'epoch: {epoch}, ' + \n",
    "                f'acc: {accuracy:.3f}, ' +\n",
    "                f'loss: {loss:.3f}')\n",
    "    # Backward pass\n",
    "    loss_activation.backward(loss_activation.output, y)\n",
    "    dense2.backward(loss_activation.dinputs)\n",
    "    activation1.backward(dense2.dinputs)\n",
    "    dense1.backward(activation1.dinputs)\n",
    "    # Update weights and biases\n",
    "    optimizer.update_params(dense1)\n",
    "    optimizer.update_params(dense2)"
   ]
  },
  {
   "cell_type": "code",
   "execution_count": null,
   "metadata": {},
   "outputs": [],
   "source": [
    "\"\"\"\n",
    "It's overfitting\n",
    "\n",
    "I need to add regularization\n",
    "\n",
    "Optiization of learning rate and the calculate the evaluation metrics, and it seems done\n",
    "\n",
    "\"\"\""
   ]
  }
 ],
 "metadata": {
  "kernelspec": {
   "display_name": "base",
   "language": "python",
   "name": "python3"
  },
  "language_info": {
   "codemirror_mode": {
    "name": "ipython",
    "version": 3
   },
   "file_extension": ".py",
   "mimetype": "text/x-python",
   "name": "python",
   "nbconvert_exporter": "python",
   "pygments_lexer": "ipython3",
   "version": "3.11.5"
  }
 },
 "nbformat": 4,
 "nbformat_minor": 2
}
