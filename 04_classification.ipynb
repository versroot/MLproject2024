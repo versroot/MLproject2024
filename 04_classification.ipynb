{
 "cells": [
  {
   "cell_type": "code",
   "execution_count": 4,
   "id": "f9a63aaf-17b2-4368-92a5-32441291eaf0",
   "metadata": {},
   "outputs": [],
   "source": [
    "import numpy as np \n",
    "traindata = np.load('./MLProject2024/fashion_train.npy')\n",
    "testdata = np.load('./MLProject2024/fashion_test.npy')"
   ]
  },
  {
   "cell_type": "code",
   "execution_count": 5,
   "id": "94e46fcc-1a7e-4bc1-98a2-4563fbec077e",
   "metadata": {},
   "outputs": [],
   "source": [
    "labels=traindata[:,-1]\n",
    "\n",
    "labelstest=testdata[:,-1]"
   ]
  },
  {
   "cell_type": "code",
   "execution_count": 6,
   "id": "cb3ef6cb-bd16-436a-9fc3-9cfd7d3911b3",
   "metadata": {},
   "outputs": [
    {
     "data": {
      "text/plain": [
       "dict_keys([0, 1, 3, 4, 2])"
      ]
     },
     "execution_count": 6,
     "metadata": {},
     "output_type": "execute_result"
    }
   ],
   "source": [
    "from collections import Counter\n",
    "labelsdistr = Counter(labels)\n",
    "labelstestdistr = Counter(labelstest)\n",
    "labelsdistr.keys()"
   ]
  },
  {
   "cell_type": "code",
   "execution_count": 8,
   "id": "179e0432-487f-42e9-99bc-dcb4949f1db0",
   "metadata": {},
   "outputs": [
    {
     "ename": "NameError",
     "evalue": "name 'x' is not defined",
     "output_type": "error",
     "traceback": [
      "\u001b[1;31m---------------------------------------------------------------------------\u001b[0m",
      "\u001b[1;31mNameError\u001b[0m                                 Traceback (most recent call last)",
      "Cell \u001b[1;32mIn[8], line 27\u001b[0m\n\u001b[0;32m     25\u001b[0m ax\u001b[38;5;241m.\u001b[39mset_ylabel(\u001b[38;5;124m'\u001b[39m\u001b[38;5;124mCount\u001b[39m\u001b[38;5;124m'\u001b[39m)\n\u001b[0;32m     26\u001b[0m ax\u001b[38;5;241m.\u001b[39mset_title(\u001b[38;5;124m'\u001b[39m\u001b[38;5;124mLabel Distribution: Train vs Test\u001b[39m\u001b[38;5;124m'\u001b[39m)\n\u001b[1;32m---> 27\u001b[0m ax\u001b[38;5;241m.\u001b[39mset_xticks(x)\n\u001b[0;32m     28\u001b[0m ax\u001b[38;5;241m.\u001b[39mset_xticklabels(all_labels)\n\u001b[0;32m     29\u001b[0m ax\u001b[38;5;241m.\u001b[39mlegend()\n",
      "\u001b[1;31mNameError\u001b[0m: name 'x' is not defined"
     ]
    },
    {
     "data": {
      "image/png": "[encoded data removed]",
      "text/plain": [
       "<Figure size 1000x600 with 1 Axes>"
      ]
     },
     "metadata": {},
     "output_type": "display_data"
    }
   ],
   "source": [
    "#visualized how data distributed\n",
    "#we can see that it's evenly distributed among all classes for train data and test data\n",
    "import matplotlib.pyplot as plt \n",
    "import numpy as np\n",
    "\n",
    "key_mapping = {\n",
    "    0: 'T-shirt/Top',\n",
    "    1: 'Trouser',\n",
    "    2: 'Pullover',\n",
    "    3: 'Dress',\n",
    "    4: 'Shirt'\n",
    "}\n",
    "\n",
    "labelsdistr_relabel = {key_mapping.get(k, k): v for k, v in labelsdistr.items()}\n",
    "labelstestdistr_relabel = {key_mapping.get(k, k): v for k, v in labelstestdistr.items()}\n",
    "\n",
    "all_labels = [key_mapping[k] for k in sorted(key_mapping.keys())]\n",
    "\n",
    "counts_train = [labelsdistr_relabel.get(label, 0) for label in all_labels]\n",
    "counts_test = [labelstestdistr_relabel.get(label, 0) for label in all_labels]\n",
    "\n",
    "fig, ax = plt.subplots(figsize=(10, 6))\n",
    "\n",
    "bars1 = ax.bar(x - width/2, counts_train, width, label='Train', color='skyblue')\n",
    "bars2 = ax.bar(x + width/2, counts_test, width, label='Test', color='salmon')\n",
    "\n",
    "ax.set_ylabel('Count')\n",
    "ax.set_title('Label Distribution: Train vs Test')\n",
    "ax.set_xticks(x)\n",
    "ax.set_xticklabels(all_labels)\n",
    "ax.legend()\n",
    "\n",
    "plt.show()\n"
   ]
  },
  {
   "cell_type": "code",
   "execution_count": 2,
   "id": "096d8e62-30d5-4539-94f3-41a3d6a15b25",
   "metadata": {},
   "outputs": [
    {
     "ename": "NameError",
     "evalue": "name 'traindata' is not defined",
     "output_type": "error",
     "traceback": [
      "\u001b[1;31m---------------------------------------------------------------------------\u001b[0m",
      "\u001b[1;31mNameError\u001b[0m                                 Traceback (most recent call last)",
      "Cell \u001b[1;32mIn[2], line 4\u001b[0m\n\u001b[0;32m      1\u001b[0m \u001b[38;5;28;01mimport\u001b[39;00m \u001b[38;5;21;01mmatplotlib\u001b[39;00m\u001b[38;5;21;01m.\u001b[39;00m\u001b[38;5;21;01mpyplot\u001b[39;00m \u001b[38;5;28;01mas\u001b[39;00m \u001b[38;5;21;01mplt\u001b[39;00m\n\u001b[0;32m      2\u001b[0m \u001b[38;5;28;01mimport\u001b[39;00m \u001b[38;5;21;01mnumpy\u001b[39;00m \u001b[38;5;28;01mas\u001b[39;00m \u001b[38;5;21;01mnp\u001b[39;00m\n\u001b[1;32m----> 4\u001b[0m X_train \u001b[38;5;241m=\u001b[39m traindata[:, :\u001b[38;5;241m-\u001b[39m\u001b[38;5;241m1\u001b[39m]\n\u001b[0;32m      5\u001b[0m y_train \u001b[38;5;241m=\u001b[39m labels\n\u001b[0;32m      7\u001b[0m \u001b[38;5;28;01mdef\u001b[39;00m \u001b[38;5;21mplot_sample_images\u001b[39m(X, y, label_mapping, num_samples\u001b[38;5;241m=\u001b[39m\u001b[38;5;241m10\u001b[39m):\n",
      "\u001b[1;31mNameError\u001b[0m: name 'traindata' is not defined"
     ]
    }
   ],
   "source": [
    "import matplotlib.pyplot as plt\n",
    "import numpy as np\n",
    "\n",
    "X_train = traindata[:, :-1]\n",
    "y_train = labels\n",
    "\n",
    "def plot_sample_images(X, y, label_mapping, num_samples=10):\n",
    "    plt.figure(figsize=(15, 4))\n",
    "    indices = np.random.choice(len(X), num_samples, replace=False)\n",
    "    for i, idx in enumerate(indices):\n",
    "        plt.subplot(2, num_samples//2, i+1)\n",
    "        plt.imshow(X[idx], cmap='gray')\n",
    "        plt.title(label_mapping[y[idx]])\n",
    "        plt.axis('off')\n",
    "    plt.tight_layout()\n",
    "    plt.show()\n",
    "\n",
    "# Define your label mapping\n",
    "label_mapping = {\n",
    "    0: 'T-shirt/Top',\n",
    "    1: 'Trouser',\n",
    "    2: 'Pullover',\n",
    "    3: 'Dress',\n",
    "    4: 'Shirt'\n",
    "}\n",
    "\n",
    "# Example usage\n",
    "plot_sample_images(X_train, y_train, label_mapping, num_samples=10)\n"
   ]
  },
  {
   "cell_type": "code",
   "execution_count": null,
   "id": "296cbcc0-51b0-4b63-b098-8fb747fad596",
   "metadata": {},
   "outputs": [],
   "source": []
  }
 ],
 "metadata": {
  "kernelspec": {
   "display_name": "Python 3 (ipykernel)",
   "language": "python",
   "name": "python3"
  },
  "language_info": {
   "codemirror_mode": {
    "name": "ipython",
    "version": 3
   },
   "file_extension": ".py",
   "mimetype": "text/x-python",
   "name": "python",
   "nbconvert_exporter": "python",
   "pygments_lexer": "ipython3",
   "version": "3.11.5"
  }
 },
 "nbformat": 4,
 "nbformat_minor": 5
}
